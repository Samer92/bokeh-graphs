{
 "cells": [
  {
   "cell_type": "code",
   "execution_count": 1,
   "metadata": {},
   "outputs": [],
   "source": [
    "\"\"\"\n",
    "The dataset represent the relationships between YouTube channels and YouTube keywords\n",
    "\n",
    "Useful link\n",
    "https://docs.bokeh.org/en/latest/docs/user_guide/graph.html\n",
    "\"\"\"\n",
    "pass"
   ]
  },
  {
   "cell_type": "code",
   "execution_count": null,
   "metadata": {},
   "outputs": [],
   "source": [
    "!pip install bokeh\n",
    "!pip install pandas"
   ]
  },
  {
   "cell_type": "code",
   "execution_count": 3,
   "metadata": {},
   "outputs": [],
   "source": [
    "import math\n",
    "import itertools\n",
    "import pickle as pk\n",
    "import pandas as pd\n",
    "from bokeh.plotting import figure, show, output_notebook, reset_output, output_file\n",
    "from bokeh.models import GraphRenderer, ColumnDataSource, StaticLayoutProvider, Circle, \\\n",
    "    MultiLine, HoverTool, TapTool, BoxSelectTool\n",
    "from bokeh.models.graphs import NodesAndLinkedEdges, EdgesAndLinkedNodes"
   ]
  },
  {
   "cell_type": "code",
   "execution_count": 4,
   "metadata": {},
   "outputs": [
    {
     "data": {
      "text/plain": [
       "dict_keys(['nodes', 'edges'])"
      ]
     },
     "execution_count": 4,
     "metadata": {},
     "output_type": "execute_result"
    }
   ],
   "source": [
    "# Load the dataset\n",
    "with open('large_network.pkl', 'rb') as f:\n",
    "    network_data = pk.load(f)\n",
    "network_data.keys()"
   ]
  },
  {
   "cell_type": "code",
   "execution_count": 5,
   "metadata": {},
   "outputs": [],
   "source": [
    "# Convert nodes into list of dictionaries\n",
    "nodes = [{**{'node_index': n[0]}, **n[-1]} for n in network_data['nodes']]\n",
    "nodes_df = pd.DataFrame(nodes)[['x', 'y']]"
   ]
  },
  {
   "cell_type": "code",
   "execution_count": 6,
   "metadata": {},
   "outputs": [],
   "source": [
    "# Split the nodes into two groups (keywords and channels)\n",
    "nodes_groups = itertools.groupby(nodes, lambda x: x['node_type'])\n",
    "\n",
    "nodes = {}\n",
    "for k,v in nodes_groups:\n",
    "    nodes[k] = list(v)"
   ]
  },
  {
   "cell_type": "code",
   "execution_count": 7,
   "metadata": {},
   "outputs": [],
   "source": [
    "# Create the channels DF\n",
    "channels_df = pd.DataFrame(nodes['channel'])\n",
    "channels_df.set_index('node_index', inplace=True)\n",
    "channels_df.head()\n",
    "channels_df['fill_color'] = 'royalblue'\n",
    "channels_df.channel_published_at = channels_df.channel_published_at.apply(lambda x: x[:10])"
   ]
  },
  {
   "cell_type": "code",
   "execution_count": 8,
   "metadata": {},
   "outputs": [],
   "source": [
    "# Create the keywords DF\n",
    "keywords_df = pd.DataFrame(nodes['keyword'])\n",
    "keywords_df.set_index('node_index', inplace=True)\n",
    "keywords_df.head()\n",
    "keywords_df['fill_color'] = 'red'"
   ]
  },
  {
   "cell_type": "code",
   "execution_count": 9,
   "metadata": {},
   "outputs": [],
   "source": [
    "# Create the edges dataframe (columns names should 'start' and 'end' according to bokeh)\n",
    "edges_df = pd.DataFrame([{'start':e[0], 'end': e[1]} for e in network_data['edges']])\n",
    "edges_df['x'] = [[channels_df.loc[row['start']]['x'], keywords_df.loc[row['end']]['x']] \n",
    "                 for _,row in edges_df.iterrows()]\n",
    "edges_df['y'] = [[channels_df.loc[row['start']]['y'], keywords_df.loc[row['end']]['y']] \n",
    "                 for _,row in edges_df.iterrows()]"
   ]
  },
  {
   "cell_type": "code",
   "execution_count": 10,
   "metadata": {},
   "outputs": [],
   "source": [
    "reset_output()"
   ]
  },
  {
   "cell_type": "code",
   "execution_count": 11,
   "metadata": {},
   "outputs": [],
   "source": [
    "# Find the axes ranges\n",
    "min_x = nodes_df['x'].min()\n",
    "max_x = nodes_df['x'].max()\n",
    "min_y = nodes_df['y'].min()\n",
    "max_y = nodes_df['y'].max()\n",
    "\n",
    "range_scale = 0.1\n",
    "x_range = [min_x - range_scale*math.fabs(min_x), max_x + range_scale*math.fabs(max_x)]\n",
    "y_range = [min_y - range_scale*math.fabs(min_y), max_y + range_scale*math.fabs(max_y)]"
   ]
  },
  {
   "cell_type": "code",
   "execution_count": 12,
   "metadata": {},
   "outputs": [],
   "source": [
    "# Create the main figure\n",
    "figure_params = {\n",
    "    'title': \"YouTube Channels Keywords Network\",\n",
    "    'tools': '',\n",
    "    'x_range': x_range,\n",
    "    'y_range': y_range,\n",
    "    'plot_width': 800,\n",
    "    'plot_height': 800,\n",
    "}\n",
    "\n",
    "fig = figure(**figure_params)\n",
    "\n",
    "# Hide the axes\n",
    "fig.xaxis.visible = False\n",
    "fig.yaxis.visible = False\n",
    "\n",
    "# Hide the grid\n",
    "fig.xgrid.visible = False\n",
    "fig.ygrid.visible = False\n",
    "\n",
    "# Edges rendering\n",
    "edges_ds = ColumnDataSource(edges_df)\n",
    "fig.multi_line('x', 'y', source=edges_ds, line_color='#cccccc', \n",
    "               line_alpha=0.8, line_width=0.5)\n",
    "\n",
    "# Channels rendering\n",
    "channels_ds = ColumnDataSource(channels_df)\n",
    "channels = fig.circle('x', 'y', source=channels_ds, fill_color='fill_color', \n",
    "           line_color = None, legend_label='Channel', size=7.5)\n",
    "channels_hover = HoverTool(renderers=[channels])\n",
    "channels_hover.tooltips = \"\"\"\n",
    "<div>\n",
    "    <h3>@channel_title</h3>\n",
    "    <div><p>  </p></div>\n",
    "    <div><img src=\"@channel_thumbnail_default\" alt=\"\"></div>\n",
    "    <div># Subscribers: @channel_subscriber_count</div>\n",
    "    <div># Views: @channel_view_count</div>\n",
    "    <div>Published at: @channel_published_at</div>\n",
    "</div>\n",
    "\"\"\"\n",
    "fig.add_tools(channels_hover)\n",
    "\n",
    "\n",
    "# Kewords rendering\n",
    "keywords_ds = ColumnDataSource(keywords_df)\n",
    "keywords = fig.circle('x', 'y', source=keywords_ds, fill_color='fill_color', \n",
    "           line_color = None, legend_label='Keyword', size=5)\n",
    "\n",
    "keywords_hover = HoverTool(renderers=[keywords], tooltips=[('Keyword', \"@node_index\")])\n",
    "fig.add_tools(keywords_hover)\n",
    "\n",
    "# output_notebook()\n",
    "output_file('channels_keywords_network.html')\n",
    "show(fig)"
   ]
  }
 ],
 "metadata": {
  "kernelspec": {
   "display_name": "Python 3",
   "language": "python",
   "name": "python3"
  },
  "language_info": {
   "codemirror_mode": {
    "name": "ipython",
    "version": 3
   },
   "file_extension": ".py",
   "mimetype": "text/x-python",
   "name": "python",
   "nbconvert_exporter": "python",
   "pygments_lexer": "ipython3",
   "version": "3.6.8"
  }
 },
 "nbformat": 4,
 "nbformat_minor": 2
}
